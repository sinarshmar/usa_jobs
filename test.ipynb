{
 "cells": [
  {
   "cell_type": "code",
   "execution_count": 1,
   "id": "f9c12637",
   "metadata": {},
   "outputs": [
    {
     "data": {
      "text/plain": [
       "True"
      ]
     },
     "execution_count": 1,
     "metadata": {},
     "output_type": "execute_result"
    }
   ],
   "source": [
    "\n",
    "import os\n",
    "import json\n",
    "from dotenv import load_dotenv\n",
    "from src.etl import USAJobsETL\n",
    "\n",
    "# Load environment variables\n",
    "load_dotenv()\n"
   ]
  },
  {
   "cell_type": "code",
   "execution_count": 2,
   "id": "1332346e",
   "metadata": {},
   "outputs": [],
   "source": [
    "etl = USAJobsETL()\n",
    "        "
   ]
  },
  {
   "cell_type": "code",
   "execution_count": 3,
   "id": "f4f012b0",
   "metadata": {},
   "outputs": [
    {
     "name": "stdout",
     "output_type": "stream",
     "text": [
      "✓ API Key loaded: True\n"
     ]
    }
   ],
   "source": [
    "print(f\"✓ API Key loaded: {bool(etl.api_key)}\") "
   ]
  },
  {
   "cell_type": "code",
   "execution_count": 4,
   "id": "6cb3488c",
   "metadata": {},
   "outputs": [
    {
     "name": "stdout",
     "output_type": "stream",
     "text": [
      "2025-09-21 02:04:06,600 - src.etl - INFO - Fetching page 1 for keyword: data engineering\n"
     ]
    }
   ],
   "source": [
    "# Test API fetch\n",
    "response = etl.fetch_jobs_from_api(page=1)\n"
   ]
  },
  {
   "cell_type": "code",
   "execution_count": 8,
   "id": "d17606a6",
   "metadata": {},
   "outputs": [
    {
     "name": "stdout",
     "output_type": "stream",
     "text": [
      "dict_keys(['LanguageCode', 'SearchParameters', 'SearchResult'])\n"
     ]
    }
   ],
   "source": [
    "print(response.keys())"
   ]
  },
  {
   "cell_type": "code",
   "execution_count": 10,
   "id": "65956813",
   "metadata": {},
   "outputs": [
    {
     "name": "stdout",
     "output_type": "stream",
     "text": [
      "✓ Total jobs available: 22\n",
      "✓ Jobs in this page: 22\n"
     ]
    }
   ],
   "source": [
    " # Explore the response structure\n",
    "search_result = response.get('SearchResult', {})\n",
    "total_count = search_result.get('SearchResultCountAll', 0)\n",
    "items = search_result.get('SearchResultItems', [])\n",
    "\n",
    "print(f\"✓ Total jobs available: {total_count}\")\n",
    "print(f\"✓ Jobs in this page: {len(items)}\")\n"
   ]
  },
  {
   "cell_type": "code",
   "execution_count": 14,
   "id": "0706c774",
   "metadata": {},
   "outputs": [
    {
     "name": "stdout",
     "output_type": "stream",
     "text": [
      "✓ Position ID: 840956600\n",
      "✓ Title: Public Notice for Aerospace Engineer (Direct Hire)\n",
      "✓ Organization: Federal Aviation Administration\n",
      "✓ Location: Belgium, Belgium, None\n",
      "✓ Salary: $34454 - $162672\n",
      "\n",
      "=== Raw Data Exploration ===\n",
      "First job raw data (first 500 chars):\n",
      "{\n",
      "  \"MatchedObjectId\": \"840956600\",\n",
      "  \"MatchedObjectDescriptor\": {\n",
      "    \"PositionID\": \"AAC-FAA-25-PUB NOT-95751\",\n",
      "    \"PositionTitle\": \"Public Notice for Aerospace Engineer (Direct Hire)\",\n",
      "    \"PositionURI\": \"https://www.usajobs.gov:443/job/840956600\",\n",
      "    \"ApplyURI\": [\n",
      "      \"https://www.usajobs.gov:443/job/840956600\"\n",
      "    ],\n",
      "    \"PositionLocationDisplay\": \"May be filled in various FAA duty locations\",\n",
      "    \"PositionLocation\": [\n",
      "      {\n",
      "        \"LocationName\": \"Belgium, Belgium\",\n",
      "        \"CountryC...\n"
     ]
    }
   ],
   "source": [
    "# Test parsing first few jobs\n",
    "for i, item in enumerate(items[:1]):\n",
    "    parsed_job = etl.parse_job_listing(item)\n",
    "\n",
    "    if parsed_job:\n",
    "        print(f\"✓ Position ID: {parsed_job.get('position_id')}\")\n",
    "        print(f\"✓ Title: {parsed_job.get('position_title')}\")\n",
    "        print(f\"✓ Organization: {parsed_job.get('organization_name')}\")\n",
    "        print(f\"✓ Location: {parsed_job.get('city_name')}, {parsed_job.get('state_code')}\")\n",
    "        print(f\"✓ Salary: ${parsed_job.get('min_salary', 'N/A')} - ${parsed_job.get('max_salary', 'N/A')}\")\n",
    "    else:\n",
    "        print(f\"✗ Failed to parse job {i+1}\")\n",
    "\n",
    "print(\"\\n=== Raw Data Exploration ===\")\n",
    "print(\"First job raw data (first 500 chars):\")\n",
    "first_job_raw = json.dumps(items[0], indent=2)[:500]\n",
    "print(first_job_raw + \"...\")\n"
   ]
  },
  {
   "cell_type": "code",
   "execution_count": null,
   "id": "27a946ad",
   "metadata": {},
   "outputs": [],
   "source": []
  }
 ],
 "metadata": {
  "kernelspec": {
   "display_name": "base",
   "language": "python",
   "name": "python3"
  },
  "language_info": {
   "codemirror_mode": {
    "name": "ipython",
    "version": 3
   },
   "file_extension": ".py",
   "mimetype": "text/x-python",
   "name": "python",
   "nbconvert_exporter": "python",
   "pygments_lexer": "ipython3",
   "version": "3.9.16"
  }
 },
 "nbformat": 4,
 "nbformat_minor": 5
}
